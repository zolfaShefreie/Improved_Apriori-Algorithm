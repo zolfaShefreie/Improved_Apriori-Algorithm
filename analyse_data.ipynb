{
  "nbformat": 4,
  "nbformat_minor": 0,
  "metadata": {
    "colab": {
      "name": "analyse_data.ipynb",
      "provenance": [],
      "authorship_tag": "ABX9TyOhUYfsztttgvMWKpgsyEWp",
      "include_colab_link": true
    },
    "kernelspec": {
      "name": "python3",
      "display_name": "Python 3"
    },
    "language_info": {
      "name": "python"
    }
  },
  "cells": [
    {
      "cell_type": "markdown",
      "metadata": {
        "id": "view-in-github",
        "colab_type": "text"
      },
      "source": [
        "<a href=\"https://colab.research.google.com/github/zolfaShefreie/Improved_Apriori-Algorithm/blob/main/analyse_data.ipynb\" target=\"_parent\"><img src=\"https://colab.research.google.com/assets/colab-badge.svg\" alt=\"Open In Colab\"/></a>"
      ]
    },
    {
      "cell_type": "markdown",
      "source": [
        "#download dataset"
      ],
      "metadata": {
        "id": "ma5ayYbF3SFm"
      }
    },
    {
      "cell_type": "code",
      "execution_count": 1,
      "metadata": {
        "id": "UIGb0on71W2-"
      },
      "outputs": [],
      "source": [
        "import requests"
      ]
    },
    {
      "cell_type": "code",
      "source": [
        "groceries_url = 'https://raw.githubusercontent.com/zolfaShefreie/Improved_Apriori-Algorithm/main/groceries.csv'\n",
        "groceries_file_path = \"groceries.csv\""
      ],
      "metadata": {
        "id": "Jic3Lxxr1eZ9"
      },
      "execution_count": 2,
      "outputs": []
    },
    {
      "cell_type": "code",
      "source": [
        "def download_file(url: str, file_path):\n",
        "  \"\"\"\n",
        "  download file and save on file path\n",
        "  \"\"\"\n",
        "  file_content = requests.get(url).text\n",
        "  file = open(file_path, 'w')\n",
        "  file.write(file_content)\n",
        "  file.close()"
      ],
      "metadata": {
        "id": "5qFs218N1g31"
      },
      "execution_count": 3,
      "outputs": []
    },
    {
      "cell_type": "code",
      "source": [
        "download_file(groceries_url, groceries_file_path)"
      ],
      "metadata": {
        "id": "OQRu4PTX1i73"
      },
      "execution_count": 4,
      "outputs": []
    },
    {
      "cell_type": "markdown",
      "source": [
        "#imports"
      ],
      "metadata": {
        "id": "UbmGRsMg3V2K"
      }
    },
    {
      "cell_type": "code",
      "source": [
        "import pandas as pd\n",
        "import numpy as np\n",
        "import itertools\n",
        "from multiprocessing import Pool\n",
        "import matplotlib.pyplot as plt\n",
        "import time"
      ],
      "metadata": {
        "id": "93acWHty1lFA"
      },
      "execution_count": 5,
      "outputs": []
    },
    {
      "cell_type": "markdown",
      "source": [
        "#useful functions"
      ],
      "metadata": {
        "id": "4hGzfc3n3Yce"
      }
    },
    {
      "cell_type": "code",
      "source": [
        "def convert_csv_to_set(path: str) -> set:\n",
        "    \"\"\"\n",
        "    this function convert a csv file to set for get all values of the table\n",
        "    :param path: the path of a file with .csv format\n",
        "    :return: a set of values without np.nan\n",
        "    \"\"\"\n",
        "    df = pd.read_csv(path, header=None)\n",
        "\n",
        "    np_array = df.to_numpy()\n",
        "    np_array = np_array.flatten().tolist()\n",
        "    items = set(np_array)\n",
        "    items.discard(np.nan)\n",
        "\n",
        "    return items"
      ],
      "metadata": {
        "id": "F_WbruhS1tlQ"
      },
      "execution_count": 6,
      "outputs": []
    },
    {
      "cell_type": "code",
      "source": [
        "def convert_csv_to_dict_data(path: str) -> dict:\n",
        "    \"\"\"\n",
        "    this function convert a csv file to dict\n",
        "    :param path: the path of a file with .csv format\n",
        "    :return: return  a dictionary with key: index and value a set of sell items without np.nan\n",
        "    \"\"\"\n",
        "    df = pd.read_csv(path, header=None)\n",
        "    dict_data = df.T.to_dict('list')\n",
        "    for each in dict_data:\n",
        "        set_data = set(dict_data[each])\n",
        "        set_data.discard(np.nan)\n",
        "        dict_data[each] = set_data\n",
        "\n",
        "    return dict_data"
      ],
      "metadata": {
        "id": "slmFkAq41yzH"
      },
      "execution_count": 7,
      "outputs": []
    },
    {
      "cell_type": "markdown",
      "source": [
        "#Apriori function"
      ],
      "metadata": {
        "id": "lz9j7YQc3cS5"
      }
    },
    {
      "cell_type": "code",
      "source": [
        "class Rule:\n",
        "    def __init__(self, rule_part_a: dict, rule_part_b: dict, a_plus_b: int, max_trans: int):\n",
        "        self.rule_part_a = rule_part_a\n",
        "        self.rule_part_b = rule_part_b\n",
        "        self.max_transactions = max_trans\n",
        "        self.sup_a_plus_b = a_plus_b\n",
        "        self.sup = self.calculate_sup(a_plus_b, max_trans)\n",
        "        self.conf = self.calculate_conf(list(rule_part_a.values())[0], a_plus_b)\n",
        "        self.lift = self.calculate_lift(self.conf, list(rule_part_b.values())[0] / max_trans)\n",
        "\n",
        "    @staticmethod\n",
        "    def calculate_sup(sup_count_a_plus_b: int, max_trans: int):\n",
        "        return sup_count_a_plus_b / max_trans\n",
        "\n",
        "    @staticmethod\n",
        "    def calculate_conf(sup_count_a: int, sup_count_a_plus_b: int):\n",
        "        return sup_count_a_plus_b / sup_count_a\n",
        "\n",
        "    @staticmethod\n",
        "    def calculate_lift(conf: float, sup_b: float):\n",
        "        return conf / sup_b\n",
        "\n",
        "    def __le__(self, other):\n",
        "        if self.rule_part_a < other.rule_part_a:\n",
        "            return True\n",
        "        return self.rule_part_a == other.rule_part_a and self.rule_part_b < other.rule_part_b\n",
        "\n",
        "    def __eq__(self, other):\n",
        "        if self.rule_part_a == other.rule_part_a and self.rule_part_b == other.rule_part_b:\n",
        "            return True\n",
        "        return False\n",
        "\n",
        "    def __str__(self):\n",
        "        return \"{}->{} support: {}, lift: {}, confidence: {}\".\\\n",
        "            format(list(list(self.rule_part_a.keys())[0]), list(list(self.rule_part_b.keys())[0]),\n",
        "                   self.sup, self.lift, self.conf)\n",
        "\n",
        "    @staticmethod\n",
        "    def sort_by(elem, sort_by):\n",
        "        if sort_by == \"lift\":\n",
        "            return elem.lift\n",
        "        if sort_by == \"support\":\n",
        "            return elem.sup\n",
        "        elif sort_by == \"confidence\":\n",
        "            return elem.conf\n",
        "\n",
        "        return elem.lift"
      ],
      "metadata": {
        "id": "FnoX6taB3gfH"
      },
      "execution_count": 14,
      "outputs": []
    },
    {
      "cell_type": "code",
      "source": [
        "class Arules:\n",
        "    MAX_LENGTH = 1000\n",
        "    MAX_ITEM_SET_RESULT = 10\n",
        "\n",
        "    def __init__(self):\n",
        "        self.max_transactions = 0\n",
        "        self.frequents = []\n",
        "\n",
        "    @staticmethod\n",
        "    def get_items(transactions: dict) -> set:\n",
        "        \"\"\"\n",
        "        get the items of transactions\n",
        "        :param transactions: a dict {transaction_id: set of items}\n",
        "        :return: set of items\n",
        "        \"\"\"\n",
        "        items = set()\n",
        "        for each in transactions.values():\n",
        "            items.update(each)\n",
        "        return set(items)\n",
        "\n",
        "    def level_process(self, transactions: dict, level: int, min_sup: float):\n",
        "        \"\"\"\n",
        "        a func management process of one level\n",
        "        :param transactions:\n",
        "        :param level: level or depth of process\n",
        "        :param min_sup: minimum support\n",
        "        :return:\n",
        "        \"\"\"\n",
        "        item_keys = self.get_level_item_keys(level)\n",
        "        args = [(dict(list(transactions.items())[i*self.MAX_LENGTH: (i+1)*self.MAX_LENGTH]), level, item_keys)\n",
        "                for i in range(int(len(transactions) / self.MAX_LENGTH) + 1)]\n",
        "        pool = Pool(int(len(transactions) / self.MAX_LENGTH) + 1)\n",
        "        results = pool.starmap(self.get_c_dict, args)\n",
        "        pool.close()\n",
        "        pool.terminate()\n",
        "        c_results = self.merge_dicts(results)\n",
        "        if level == 1:\n",
        "            self.frequents.append(self.get_l_dict(len(transactions), c_results, min_sup, level))\n",
        "        else:\n",
        "            result = self.get_l_dict(len(transactions), c_results, min_sup, level, self.frequents[level - 2])\n",
        "            self.frequents.append(result)\n",
        "\n",
        "    def get_level_item_keys(self, level: int):\n",
        "        \"\"\"\n",
        "        :param level: level or depth of process\n",
        "        :return: the key items\n",
        "        \"\"\"\n",
        "        key_list = None\n",
        "        if len(self.frequents) > 0:\n",
        "            items = list(self.frequents[level - 2].keys())\n",
        "            key_list = set()\n",
        "            count = 1\n",
        "            for i in range(len(items)):\n",
        "                item = sorted(list(items[i]))\n",
        "                for each in items[i + 1:]:\n",
        "                    each = sorted(list(each))\n",
        "                    if item[:-1] == each[:-1] and item[-1] != each[-1]:\n",
        "                        key_list.add(frozenset(item + [each[-1], ]))\n",
        "                    count += 1\n",
        "        return key_list\n",
        "\n",
        "    def get_c_dict(self, transactions: dict, level: int, item_keys=None) -> dict:\n",
        "        \"\"\"\n",
        "        make the table c\n",
        "        :param transactions: the dict of transactions\n",
        "        :param level: level or depth of process\n",
        "        :param item_keys: a list of tuple for a set of items\n",
        "        :return: a dict {item: sup}\n",
        "        \"\"\"\n",
        "        if level == 1:\n",
        "            items = self.get_items(transactions)\n",
        "            item_keys = list(map(frozenset, itertools.combinations(set(items), level)))\n",
        "\n",
        "        result_dict = dict()\n",
        "        for each in item_keys:\n",
        "            for transaction in transactions.values():\n",
        "                if transaction.intersection(each) == set(each):\n",
        "                    result_dict[each] = result_dict.get(each, 0) + 1\n",
        "        return result_dict\n",
        "\n",
        "    @staticmethod\n",
        "    def get_l_dict(max_length: int, c: dict, min_sup: float, level: int, pre_l=None) -> dict:\n",
        "        \"\"\"\n",
        "        make the table l\n",
        "        :param max_length: number of transactions\n",
        "        :param c: the return of get_c_dict\n",
        "        :param min_sup: a float number between 0 and 1\n",
        "        :param level: level or depth of process\n",
        "        :param pre_l: a dict for self.c[level-1]\n",
        "        :return: a dict with valid sup\n",
        "        \"\"\"\n",
        "        c_copy = dict(c)\n",
        "        for each in c:\n",
        "            if len(each) > 1:\n",
        "                sub_keys = list(map(frozenset, itertools.combinations(set(each), level-1)))\n",
        "                if pre_l is None:\n",
        "                    raise Exception\n",
        "                pre_keys = set(pre_l.keys())\n",
        "                commons = pre_keys.intersection(sub_keys)\n",
        "                if len(commons) != len(sub_keys):\n",
        "                    c_copy.pop(each)\n",
        "                    continue\n",
        "            if c[each] / max_length < min_sup:\n",
        "                c_copy.pop(each)\n",
        "        return c_copy\n",
        "\n",
        "    @staticmethod\n",
        "    def merge_dicts(list_dict: list) -> dict:\n",
        "        \"\"\"\n",
        "        if a key in dict_a and dict_b => value of key = dict_b[key] + dict_a[key]\n",
        "        :param list_dict:  list of {key: value} that value must be int\n",
        "        :return: merge dict\n",
        "        \"\"\"\n",
        "        result = dict()\n",
        "        keys = list(set([frozenset(key) for each in list_dict for key in each]))\n",
        "        for key in keys:\n",
        "            value = 0\n",
        "            for each in list_dict:\n",
        "                value += each.get(key, 0)\n",
        "            result[key] = value\n",
        "        return result\n",
        "\n",
        "    def get_frequent_item_sets(self, transactions: dict, min_sup=float('-inf')) -> list:\n",
        "        \"\"\"\n",
        "        get n item set\n",
        "        :param transactions: a dict of transaction ids and the list of items\n",
        "        :param min_sup: minimum support\n",
        "        :return: the list of last level\n",
        "        \"\"\"\n",
        "        self.max_transactions = len(transactions)\n",
        "        level = 1\n",
        "        while True:\n",
        "            self.level_process(transactions, level, min_sup)\n",
        "            if not self.frequents[level - 1]:\n",
        "                break\n",
        "            level += 1\n",
        "        return list(self.frequents[level - 2].keys())[:self.MAX_ITEM_SET_RESULT]\n",
        "\n",
        "    def get_arules(self, min_sup=float('-inf'), min_conf=float('-inf'), min_lift=float('-inf'), sort_by='lift'):\n",
        "        \"\"\"\n",
        "        get all rules and sort it\n",
        "        :param min_sup: a float between 0 and 1\n",
        "        :param min_conf: a float between 0 and 1\n",
        "        :param min_lift: a float between 0 and 1\n",
        "        :param sort_by: choices = (lift, support, confidence)\n",
        "        :return: sorted rules\n",
        "        \"\"\"\n",
        "        item_sets = list(self.frequents[len(self.frequents) - 2].keys())\n",
        "        args = [(set(each), self.frequents[len(self.frequents) - 2][each], min_sup, min_conf, min_lift) for each in item_sets]\n",
        "        pool = Pool(len(item_sets))\n",
        "        rules = pool.starmap(self.get_item_set_rule, args)\n",
        "        pool.close()\n",
        "        pool.terminate()\n",
        "        rules = [rule for each in rules for rule in each]\n",
        "        return sorted(rules, key=lambda x: Rule.sort_by(x, sort_by), reverse=True)\n",
        "\n",
        "    def get_item_set_rule(self, item_set: set, sup_count: int, min_sup=float('-inf'), min_conf=float('-inf'),\n",
        "                          min_lift=float('-inf')) -> list:\n",
        "        \"\"\"\n",
        "        get unsorted rules of one item set\n",
        "        :param item_set: one set of  frequent item\n",
        "        :param sup_count: the sup count of item_set in transactions\n",
        "        :param min_sup: a float between 0 and 1\n",
        "        :param min_conf: a float between 0 and 1\n",
        "        :param min_lift: a float between 0 and 1\n",
        "        :return: a list of rule\n",
        "        \"\"\"\n",
        "        rule_parts_list = list()\n",
        "        rule_obj_list = list()\n",
        "        for i in range(int(len(item_set)-1)):\n",
        "            sub_sets = list(map(set, itertools.combinations(item_set, i+1)))\n",
        "            for each in sub_sets:\n",
        "                complement = item_set - each\n",
        "                if (each, complement) not in rule_parts_list:\n",
        "                    rule_parts_list.append((each, complement))\n",
        "                    rule = Rule(rule_part_a={frozenset(each): self.frequents[len(each) - 1][frozenset(each)]},\n",
        "                                rule_part_b={frozenset(complement): self.frequents[len(complement) - 1][frozenset(complement)]},\n",
        "                                a_plus_b=sup_count,\n",
        "                                max_trans=self.max_transactions)\n",
        "                    if rule.sup >= min_sup and rule.conf >= min_conf and rule.lift >= min_lift:\n",
        "                        rule_obj_list.append(rule)\n",
        "        return rule_obj_list"
      ],
      "metadata": {
        "id": "0c0UYcPW4zxC"
      },
      "execution_count": 15,
      "outputs": []
    },
    {
      "cell_type": "markdown",
      "source": [
        "#Analyse"
      ],
      "metadata": {
        "id": "kU0iACX147va"
      }
    },
    {
      "cell_type": "code",
      "source": [
        "transactions = convert_csv_to_dict_data(groceries_file_path)\n",
        "items = convert_csv_to_set(groceries_file_path)\n",
        "len(items), len(transactions)"
      ],
      "metadata": {
        "colab": {
          "base_uri": "https://localhost:8080/"
        },
        "id": "UTxG9ZVy1oGR",
        "outputId": "c29f0671-47c0-43b5-bfe3-6bfa2e0acde5"
      },
      "execution_count": 9,
      "outputs": [
        {
          "output_type": "execute_result",
          "data": {
            "text/plain": [
              "(169, 9835)"
            ]
          },
          "metadata": {},
          "execution_count": 9
        }
      ]
    },
    {
      "cell_type": "code",
      "source": [
        "df = pd.DataFrame({'transaction_id': list(transactions.keys()), \n",
        "                   'item_count': [len(each) for each in transactions.values()]})\n",
        "df.plot(x='transaction_id', y='item_count')"
      ],
      "metadata": {
        "colab": {
          "base_uri": "https://localhost:8080/",
          "height": 297
        },
        "id": "h6uSP0IY2MQr",
        "outputId": "67adabc2-fa5e-4dc9-837f-5dd22248bb05"
      },
      "execution_count": 10,
      "outputs": [
        {
          "output_type": "execute_result",
          "data": {
            "text/plain": [
              "<matplotlib.axes._subplots.AxesSubplot at 0x7f5f5f7e0810>"
            ]
          },
          "metadata": {},
          "execution_count": 10
        },
        {
          "output_type": "display_data",
          "data": {
            "text/plain": [
              "<Figure size 432x288 with 1 Axes>"
            ],
            "image/png": "[encoded data removed]"
          },
          "metadata": {
            "needs_background": "light"
          }
        }
      ]
    },
    {
      "cell_type": "code",
      "source": [
        "df.loc[df['item_count'].idxmax()]"
      ],
      "metadata": {
        "colab": {
          "base_uri": "https://localhost:8080/"
        },
        "id": "x2JxBLcn2PMS",
        "outputId": "ea1152f2-810b-4aab-ad5f-77c72c0dd80e"
      },
      "execution_count": 11,
      "outputs": [
        {
          "output_type": "execute_result",
          "data": {
            "text/plain": [
              "transaction_id    1216\n",
              "item_count          32\n",
              "Name: 1216, dtype: int64"
            ]
          },
          "metadata": {},
          "execution_count": 11
        }
      ]
    },
    {
      "cell_type": "code",
      "source": [
        "df.describe(), df.boxplot(column=[\"item_count\"])"
      ],
      "metadata": {
        "colab": {
          "base_uri": "https://localhost:8080/",
          "height": 440
        },
        "id": "tt4W66Y42UpV",
        "outputId": "4e13d49b-2c51-49af-b7d8-2bc1ed8821e2"
      },
      "execution_count": 13,
      "outputs": [
        {
          "output_type": "execute_result",
          "data": {
            "text/plain": [
              "(       transaction_id   item_count\n",
              " count     9835.000000  9835.000000\n",
              " mean      4917.000000     4.409456\n",
              " std       2839.264283     3.589385\n",
              " min          0.000000     1.000000\n",
              " 25%       2458.500000     2.000000\n",
              " 50%       4917.000000     3.000000\n",
              " 75%       7375.500000     6.000000\n",
              " max       9834.000000    32.000000,\n",
              " <matplotlib.axes._subplots.AxesSubplot at 0x7f5f5f8ecd90>)"
            ]
          },
          "metadata": {},
          "execution_count": 13
        },
        {
          "output_type": "display_data",
          "data": {
            "text/plain": [
              "<Figure size 432x288 with 1 Axes>"
            ],
            "image/png": "[encoded data removed]"
          },
          "metadata": {
            "needs_background": "light"
          }
        }
      ]
    },
    {
      "cell_type": "code",
      "source": [
        "algo_obj = Arules()\n",
        "algo_obj.level_process(transactions, 1, 0)\n",
        "level_one_result = algo_obj.frequents[0]\n",
        "item_list = list()\n",
        "for each in level_one_result:\n",
        "  item_list.append({'item': list(each)[0], 'frequents': level_one_result[each]})\n",
        "item_list"
      ],
      "metadata": {
        "colab": {
          "base_uri": "https://localhost:8080/"
        },
        "id": "4HbUvn5H3IoG",
        "outputId": "559ff44b-e6ed-40ba-cd10-eed59e3b39a2"
      },
      "execution_count": 20,
      "outputs": [
        {
          "output_type": "execute_result",
          "data": {
            "text/plain": [
              "[{'frequents': 106, 'item': 'canned vegetables'},\n",
              " {'frequents': 365, 'item': 'dessert'},\n",
              " {'frequents': 545, 'item': 'butter'},\n",
              " {'frequents': 744, 'item': 'pip fruit'},\n",
              " {'frequents': 163, 'item': 'processed cheese'},\n",
              " {'frequents': 189, 'item': 'detergent'},\n",
              " {'frequents': 30, 'item': 'snack products'},\n",
              " {'frequents': 22, 'item': 'organic sausage'},\n",
              " {'frequents': 279, 'item': 'frozen meals'},\n",
              " {'frequents': 241, 'item': 'hard cheese'},\n",
              " {'frequents': 414, 'item': 'white bread'},\n",
              " {'frequents': 711, 'item': 'fruit/vegetable juice'},\n",
              " {'frequents': 785, 'item': 'newspapers'},\n",
              " {'frequents': 22, 'item': 'cocoa drinks'},\n",
              " {'frequents': 279, 'item': 'misc. beverages'},\n",
              " {'frequents': 32, 'item': 'syrup'},\n",
              " {'frequents': 80, 'item': 'turkey'},\n",
              " {'frequents': 329, 'item': 'UHT-milk'},\n",
              " {'frequents': 55, 'item': 'sparkling wine'},\n",
              " {'frequents': 106, 'item': 'salt'},\n",
              " {'frequents': 23, 'item': 'tidbits'},\n",
              " {'frequents': 60, 'item': 'female sanitary products'},\n",
              " {'frequents': 875, 'item': 'pastry'},\n",
              " {'frequents': 57, 'item': 'dental care'},\n",
              " {'frequents': 35, 'item': 'skin care'},\n",
              " {'frequents': 8, 'item': 'make up remover'},\n",
              " {'frequents': 68, 'item': 'zwieback'},\n",
              " {'frequents': 59, 'item': 'kitchen towels'},\n",
              " {'frequents': 299, 'item': 'specialty chocolate'},\n",
              " {'frequents': 1032, 'item': 'tropical fruit'},\n",
              " {'frequents': 241, 'item': 'sliced cheese'},\n",
              " {'frequents': 26, 'item': 'soap'},\n",
              " {'frequents': 15, 'item': 'decalcifier'},\n",
              " {'frequents': 101, 'item': 'condensed milk'},\n",
              " {'frequents': 79, 'item': 'Instant food products'},\n",
              " {'frequents': 170, 'item': 'pot plants'},\n",
              " {'frequents': 6, 'item': 'baby cosmetics'},\n",
              " {'frequents': 7, 'item': 'toilet cleaner'},\n",
              " {'frequents': 220, 'item': 'grapes'},\n",
              " {'frequents': 42, 'item': 'meat spreads'},\n",
              " {'frequents': 53, 'item': 'jam'},\n",
              " {'frequents': 36, 'item': 'specialty fat'},\n",
              " {'frequents': 73, 'item': 'instant coffee'},\n",
              " {'frequents': 8, 'item': 'salad dressing'},\n",
              " {'frequents': 269, 'item': 'specialty bar'},\n",
              " {'frequents': 229, 'item': 'cat food'},\n",
              " {'frequents': 638, 'item': 'brown bread'},\n",
              " {'frequents': 75, 'item': 'rice'},\n",
              " {'frequents': 140, 'item': 'seasonal products'},\n",
              " {'frequents': 38, 'item': 'tea'},\n",
              " {'frequents': 567, 'item': 'pork'},\n",
              " {'frequents': 4, 'item': 'bags'},\n",
              " {'frequents': 1809, 'item': 'rolls/buns'},\n",
              " {'frequents': 54, 'item': 'softener'},\n",
              " {'frequents': 83, 'item': 'frozen potato products'},\n",
              " {'frequents': 118, 'item': 'mustard'},\n",
              " {'frequents': 51, 'item': 'spices'},\n",
              " {'frequents': 327, 'item': 'hamburger meat'},\n",
              " {'frequents': 1372, 'item': 'yogurt'},\n",
              " {'frequents': 84, 'item': 'dog food'},\n",
              " {'frequents': 924, 'item': 'sausage'},\n",
              " {'frequents': 44, 'item': 'rum'},\n",
              " {'frequents': 19, 'item': 'flower soil/fertilizer'},\n",
              " {'frequents': 11, 'item': 'hair spray'},\n",
              " {'frequents': 27, 'item': 'bathroom cleaner'},\n",
              " {'frequents': 624, 'item': 'domestic eggs'},\n",
              " {'frequents': 32, 'item': 'canned fruit'},\n",
              " {'frequents': 112, 'item': 'cling film/bags'},\n",
              " {'frequents': 176, 'item': 'pickled vegetables'},\n",
              " {'frequents': 160, 'item': 'herbs'},\n",
              " {'frequents': 15, 'item': 'honey'},\n",
              " {'frequents': 41, 'item': 'brandy'},\n",
              " {'frequents': 524, 'item': 'curd'},\n",
              " {'frequents': 1903, 'item': 'other vegetables'},\n",
              " {'frequents': 29, 'item': 'fish'},\n",
              " {'frequents': 9, 'item': 'liqueur'},\n",
              " {'frequents': 93, 'item': 'pet care'},\n",
              " {'frequents': 31, 'item': 'nut snack'},\n",
              " {'frequents': 64, 'item': 'finished products'},\n",
              " {'frequents': 173, 'item': 'dishes'},\n",
              " {'frequents': 580, 'item': 'frankfurter'},\n",
              " {'frequents': 254, 'item': 'meat'},\n",
              " {'frequents': 27, 'item': 'cookware'},\n",
              " {'frequents': 128, 'item': 'packaged fruit/vegetables'},\n",
              " {'frequents': 2513, 'item': 'whole milk'},\n",
              " {'frequents': 18, 'item': 'ready soups'},\n",
              " {'frequents': 106, 'item': 'frozen dessert'},\n",
              " {'frequents': 422, 'item': 'chicken'},\n",
              " {'frequents': 488, 'item': 'chocolate'},\n",
              " {'frequents': 45, 'item': 'male cosmetics'},\n",
              " {'frequents': 294, 'item': 'candy'},\n",
              " {'frequents': 89, 'item': 'sweet spreads'},\n",
              " {'frequents': 82, 'item': 'house keeping products'},\n",
              " {'frequents': 969, 'item': 'shopping bags'},\n",
              " {'frequents': 174, 'item': 'baking powder'},\n",
              " {'frequents': 256, 'item': 'ham'},\n",
              " {'frequents': 148, 'item': 'pasta'},\n",
              " {'frequents': 115, 'item': 'frozen fish'},\n",
              " {'frequents': 89, 'item': 'chocolate marshmallow'},\n",
              " {'frequents': 42, 'item': 'ketchup'},\n",
              " {'frequents': 327, 'item': 'berries'},\n",
              " {'frequents': 189, 'item': 'red/blush wine'},\n",
              " {'frequents': 814, 'item': 'citrus fruit'},\n",
              " {'frequents': 16, 'item': 'organic products'},\n",
              " {'frequents': 110, 'item': 'spread cheese'},\n",
              " {'frequents': 792, 'item': 'bottled beer'},\n",
              " {'frequents': 32, 'item': 'artif. sweetener'},\n",
              " {'frequents': 71, 'item': 'popcorn'},\n",
              " {'frequents': 25, 'item': 'cooking chocolate'},\n",
              " {'frequents': 90, 'item': 'mayonnaise'},\n",
              " {'frequents': 56, 'item': 'cereals'},\n",
              " {'frequents': 207, 'item': 'chewing gum'},\n",
              " {'frequents': 576, 'item': 'margarine'},\n",
              " {'frequents': 1, 'item': 'sound storage medium'},\n",
              " {'frequents': 103, 'item': 'dish cleaner'},\n",
              " {'frequents': 12, 'item': 'frozen fruits'},\n",
              " {'frequents': 6, 'item': 'frozen chicken'},\n",
              " {'frequents': 4, 'item': 'kitchen utensil'},\n",
              " {'frequents': 17, 'item': 'specialty vegetables'},\n",
              " {'frequents': 764, 'item': 'canned beer'},\n",
              " {'frequents': 50, 'item': 'curd cheese'},\n",
              " {'frequents': 35, 'item': 'abrasive cleaner'},\n",
              " {'frequents': 305, 'item': 'onions'},\n",
              " {'frequents': 333, 'item': 'sugar'},\n",
              " {'frequents': 174, 'item': 'semi-finished bread'},\n",
              " {'frequents': 33, 'item': 'nuts/prunes'},\n",
              " {'frequents': 109, 'item': 'liquor'},\n",
              " {'frequents': 13, 'item': 'cream'},\n",
              " {'frequents': 187, 'item': 'white wine'},\n",
              " {'frequents': 705, 'item': 'whipped/sour cream'},\n",
              " {'frequents': 67, 'item': 'soups'},\n",
              " {'frequents': 1715, 'item': 'soda'},\n",
              " {'frequents': 275, 'item': 'butter milk'},\n",
              " {'frequents': 390, 'item': 'cream cheese '},\n",
              " {'frequents': 1, 'item': 'baby food'},\n",
              " {'frequents': 171, 'item': 'flour'},\n",
              " {'frequents': 1072, 'item': 'root vegetables'},\n",
              " {'frequents': 571, 'item': 'coffee'},\n",
              " {'frequents': 368, 'item': 'long life bakery product'},\n",
              " {'frequents': 378, 'item': 'waffles'},\n",
              " {'frequents': 41, 'item': 'light bulbs'},\n",
              " {'frequents': 324, 'item': 'hygiene articles'},\n",
              " {'frequents': 84, 'item': 'specialty cheese'},\n",
              " {'frequents': 88, 'item': 'candles'},\n",
              " {'frequents': 8, 'item': 'whisky'},\n",
              " {'frequents': 20, 'item': 'prosecco'},\n",
              " {'frequents': 1087, 'item': 'bottled water'},\n",
              " {'frequents': 256, 'item': 'beverages'},\n",
              " {'frequents': 28, 'item': 'potato products'},\n",
              " {'frequents': 50, 'item': 'cleaner'},\n",
              " {'frequents': 64, 'item': 'vinegar'},\n",
              " {'frequents': 10, 'item': 'rubbing alcohol'},\n",
              " {'frequents': 2, 'item': 'preservation products'},\n",
              " {'frequents': 473, 'item': 'frozen vegetables'},\n",
              " {'frequents': 515, 'item': 'napkins'},\n",
              " {'frequents': 276, 'item': 'oil'},\n",
              " {'frequents': 246, 'item': 'ice cream'},\n",
              " {'frequents': 168, 'item': 'soft cheese'},\n",
              " {'frequents': 50, 'item': 'liver loaf'},\n",
              " {'frequents': 372, 'item': 'salty snack'},\n",
              " {'frequents': 148, 'item': 'canned fish'},\n",
              " {'frequents': 516, 'item': 'beef'},\n",
              " {'frequents': 102, 'item': 'flower (seeds)'},\n",
              " {'frequents': 78, 'item': 'liquor (appetizer)'},\n",
              " {'frequents': 101, 'item': 'roll products '},\n",
              " {'frequents': 130, 'item': 'cake bar'},\n",
              " {'frequents': 23, 'item': 'pudding powder'},\n",
              " {'frequents': 54, 'item': 'sauces'},\n",
              " {'frequents': 91, 'item': 'photo/film'}]"
            ]
          },
          "metadata": {},
          "execution_count": 20
        }
      ]
    },
    {
      "cell_type": "code",
      "source": [
        "df_items = pd.DataFrame(item_list)"
      ],
      "metadata": {
        "id": "m-lqjc_65C-b"
      },
      "execution_count": 21,
      "outputs": []
    },
    {
      "cell_type": "code",
      "source": [
        "df_items.plot.bar(figsize=(40,10), x='item', y='frequents')"
      ],
      "metadata": {
        "colab": {
          "base_uri": "https://localhost:8080/",
          "height": 395
        },
        "id": "R5rYkr-45RRI",
        "outputId": "db9c4c60-4b58-449e-8a23-fc9135518bf0"
      },
      "execution_count": 22,
      "outputs": [
        {
          "output_type": "execute_result",
          "data": {
            "text/plain": [
              "<matplotlib.axes._subplots.AxesSubplot at 0x7f5f5fa485d0>"
            ]
          },
          "metadata": {},
          "execution_count": 22
        },
        {
          "output_type": "display_data",
          "data": {
            "text/plain": [
              "<Figure size 2880x720 with 1 Axes>"
            ],
            "image/png": "[encoded data removed]"
          },
          "metadata": {
            "needs_background": "light"
          }
        }
      ]
    },
    {
      "cell_type": "code",
      "source": [
        "df_items.sort_values(by=['frequents'], inplace=True)\n",
        "df_items.tail(10)"
      ],
      "metadata": {
        "colab": {
          "base_uri": "https://localhost:8080/",
          "height": 363
        },
        "id": "ksO-FWuZ5SCT",
        "outputId": "35ecd47d-1105-4b40-9887-3449ac27203e"
      },
      "execution_count": 23,
      "outputs": [
        {
          "output_type": "execute_result",
          "data": {
            "text/plain": [
              "                 item  frequents\n",
              "60            sausage        924\n",
              "93      shopping bags        969\n",
              "29     tropical fruit       1032\n",
              "136   root vegetables       1072\n",
              "146     bottled water       1087\n",
              "58             yogurt       1372\n",
              "131              soda       1715\n",
              "52         rolls/buns       1809\n",
              "73   other vegetables       1903\n",
              "84         whole milk       2513"
            ],
            "text/html": [
              "\n",
              "  <div id=\"df-862a358a-43cc-4a77-9379-f84c12c54214\">\n",
              "    <div class=\"colab-df-container\">\n",
              "      <div>\n",
              "<style scoped>\n",
              "    .dataframe tbody tr th:only-of-type {\n",
              "        vertical-align: middle;\n",
              "    }\n",
              "\n",
              "    .dataframe tbody tr th {\n",
              "        vertical-align: top;\n",
              "    }\n",
              "\n",
              "    .dataframe thead th {\n",
              "        text-align: right;\n",
              "    }\n",
              "</style>\n",
              "<table border=\"1\" class=\"dataframe\">\n",
              "  <thead>\n",
              "    <tr style=\"text-align: right;\">\n",
              "      <th></th>\n",
              "      <th>item</th>\n",
              "      <th>frequents</th>\n",
              "    </tr>\n",
              "  </thead>\n",
              "  <tbody>\n",
              "    <tr>\n",
              "      <th>60</th>\n",
              "      <td>sausage</td>\n",
              "      <td>924</td>\n",
              "    </tr>\n",
              "    <tr>\n",
              "      <th>93</th>\n",
              "      <td>shopping bags</td>\n",
              "      <td>969</td>\n",
              "    </tr>\n",
              "    <tr>\n",
              "      <th>29</th>\n",
              "      <td>tropical fruit</td>\n",
              "      <td>1032</td>\n",
              "    </tr>\n",
              "    <tr>\n",
              "      <th>136</th>\n",
              "      <td>root vegetables</td>\n",
              "      <td>1072</td>\n",
              "    </tr>\n",
              "    <tr>\n",
              "      <th>146</th>\n",
              "      <td>bottled water</td>\n",
              "      <td>1087</td>\n",
              "    </tr>\n",
              "    <tr>\n",
              "      <th>58</th>\n",
              "      <td>yogurt</td>\n",
              "      <td>1372</td>\n",
              "    </tr>\n",
              "    <tr>\n",
              "      <th>131</th>\n",
              "      <td>soda</td>\n",
              "      <td>1715</td>\n",
              "    </tr>\n",
              "    <tr>\n",
              "      <th>52</th>\n",
              "      <td>rolls/buns</td>\n",
              "      <td>1809</td>\n",
              "    </tr>\n",
              "    <tr>\n",
              "      <th>73</th>\n",
              "      <td>other vegetables</td>\n",
              "      <td>1903</td>\n",
              "    </tr>\n",
              "    <tr>\n",
              "      <th>84</th>\n",
              "      <td>whole milk</td>\n",
              "      <td>2513</td>\n",
              "    </tr>\n",
              "  </tbody>\n",
              "</table>\n",
              "</div>\n",
              "      <button class=\"colab-df-convert\" onclick=\"convertToInteractive('df-862a358a-43cc-4a77-9379-f84c12c54214')\"\n",
              "              title=\"Convert this dataframe to an interactive table.\"\n",
              "              style=\"display:none;\">\n",
              "        \n",
              "  <svg xmlns=\"http://www.w3.org/2000/svg\" height=\"24px\"viewBox=\"0 0 24 24\"\n",
              "       width=\"24px\">\n",
              "    <path d=\"M0 0h24v24H0V0z\" fill=\"none\"/>\n",
              "    <path d=\"M18.56 5.44l.94 2.06.94-2.06 2.06-.94-2.06-.94-.94-2.06-.94 2.06-2.06.94zm-11 1L8.5 8.5l.94-2.06 2.06-.94-2.06-.94L8.5 2.5l-.94 2.06-2.06.94zm10 10l.94 2.06.94-2.06 2.06-.94-2.06-.94-.94-2.06-.94 2.06-2.06.94z\"/><path d=\"M17.41 7.96l-1.37-1.37c-.4-.4-.92-.59-1.43-.59-.52 0-1.04.2-1.43.59L10.3 9.45l-7.72 7.72c-.78.78-.78 2.05 0 2.83L4 21.41c.39.39.9.59 1.41.59.51 0 1.02-.2 1.41-.59l7.78-7.78 2.81-2.81c.8-.78.8-2.07 0-2.86zM5.41 20L4 18.59l7.72-7.72 1.47 1.35L5.41 20z\"/>\n",
              "  </svg>\n",
              "      </button>\n",
              "      \n",
              "  <style>\n",
              "    .colab-df-container {\n",
              "      display:flex;\n",
              "      flex-wrap:wrap;\n",
              "      gap: 12px;\n",
              "    }\n",
              "\n",
              "    .colab-df-convert {\n",
              "      background-color: #E8F0FE;\n",
              "      border: none;\n",
              "      border-radius: 50%;\n",
              "      cursor: pointer;\n",
              "      display: none;\n",
              "      fill: #1967D2;\n",
              "      height: 32px;\n",
              "      padding: 0 0 0 0;\n",
              "      width: 32px;\n",
              "    }\n",
              "\n",
              "    .colab-df-convert:hover {\n",
              "      background-color: #E2EBFA;\n",
              "      box-shadow: 0px 1px 2px rgba(60, 64, 67, 0.3), 0px 1px 3px 1px rgba(60, 64, 67, 0.15);\n",
              "      fill: #174EA6;\n",
              "    }\n",
              "\n",
              "    [theme=dark] .colab-df-convert {\n",
              "      background-color: #3B4455;\n",
              "      fill: #D2E3FC;\n",
              "    }\n",
              "\n",
              "    [theme=dark] .colab-df-convert:hover {\n",
              "      background-color: #434B5C;\n",
              "      box-shadow: 0px 1px 3px 1px rgba(0, 0, 0, 0.15);\n",
              "      filter: drop-shadow(0px 1px 2px rgba(0, 0, 0, 0.3));\n",
              "      fill: #FFFFFF;\n",
              "    }\n",
              "  </style>\n",
              "\n",
              "      <script>\n",
              "        const buttonEl =\n",
              "          document.querySelector('#df-862a358a-43cc-4a77-9379-f84c12c54214 button.colab-df-convert');\n",
              "        buttonEl.style.display =\n",
              "          google.colab.kernel.accessAllowed ? 'block' : 'none';\n",
              "\n",
              "        async function convertToInteractive(key) {\n",
              "          const element = document.querySelector('#df-862a358a-43cc-4a77-9379-f84c12c54214');\n",
              "          const dataTable =\n",
              "            await google.colab.kernel.invokeFunction('convertToInteractive',\n",
              "                                                     [key], {});\n",
              "          if (!dataTable) return;\n",
              "\n",
              "          const docLinkHtml = 'Like what you see? Visit the ' +\n",
              "            '<a target=\"_blank\" href=https://colab.research.google.com/notebooks/data_table.ipynb>data table notebook</a>'\n",
              "            + ' to learn more about interactive tables.';\n",
              "          element.innerHTML = '';\n",
              "          dataTable['output_type'] = 'display_data';\n",
              "          await google.colab.output.renderOutput(dataTable, element);\n",
              "          const docLink = document.createElement('div');\n",
              "          docLink.innerHTML = docLinkHtml;\n",
              "          element.appendChild(docLink);\n",
              "        }\n",
              "      </script>\n",
              "    </div>\n",
              "  </div>\n",
              "  "
            ]
          },
          "metadata": {},
          "execution_count": 23
        }
      ]
    },
    {
      "cell_type": "code",
      "source": [
        "df_items.head(10)"
      ],
      "metadata": {
        "colab": {
          "base_uri": "https://localhost:8080/",
          "height": 363
        },
        "id": "rVgzK60i6LRO",
        "outputId": "2f183e22-edb9-440d-c420-09b5f8c22ab3"
      },
      "execution_count": 24,
      "outputs": [
        {
          "output_type": "execute_result",
          "data": {
            "text/plain": [
              "                      item  frequents\n",
              "113   sound storage medium          1\n",
              "134              baby food          1\n",
              "152  preservation products          2\n",
              "51                    bags          4\n",
              "117        kitchen utensil          4\n",
              "36          baby cosmetics          6\n",
              "116         frozen chicken          6\n",
              "37          toilet cleaner          7\n",
              "144                 whisky          8\n",
              "25         make up remover          8"
            ],
            "text/html": [
              "\n",
              "  <div id=\"df-2dfdd45d-dd95-471f-8ccb-7e0844960b95\">\n",
              "    <div class=\"colab-df-container\">\n",
              "      <div>\n",
              "<style scoped>\n",
              "    .dataframe tbody tr th:only-of-type {\n",
              "        vertical-align: middle;\n",
              "    }\n",
              "\n",
              "    .dataframe tbody tr th {\n",
              "        vertical-align: top;\n",
              "    }\n",
              "\n",
              "    .dataframe thead th {\n",
              "        text-align: right;\n",
              "    }\n",
              "</style>\n",
              "<table border=\"1\" class=\"dataframe\">\n",
              "  <thead>\n",
              "    <tr style=\"text-align: right;\">\n",
              "      <th></th>\n",
              "      <th>item</th>\n",
              "      <th>frequents</th>\n",
              "    </tr>\n",
              "  </thead>\n",
              "  <tbody>\n",
              "    <tr>\n",
              "      <th>113</th>\n",
              "      <td>sound storage medium</td>\n",
              "      <td>1</td>\n",
              "    </tr>\n",
              "    <tr>\n",
              "      <th>134</th>\n",
              "      <td>baby food</td>\n",
              "      <td>1</td>\n",
              "    </tr>\n",
              "    <tr>\n",
              "      <th>152</th>\n",
              "      <td>preservation products</td>\n",
              "      <td>2</td>\n",
              "    </tr>\n",
              "    <tr>\n",
              "      <th>51</th>\n",
              "      <td>bags</td>\n",
              "      <td>4</td>\n",
              "    </tr>\n",
              "    <tr>\n",
              "      <th>117</th>\n",
              "      <td>kitchen utensil</td>\n",
              "      <td>4</td>\n",
              "    </tr>\n",
              "    <tr>\n",
              "      <th>36</th>\n",
              "      <td>baby cosmetics</td>\n",
              "      <td>6</td>\n",
              "    </tr>\n",
              "    <tr>\n",
              "      <th>116</th>\n",
              "      <td>frozen chicken</td>\n",
              "      <td>6</td>\n",
              "    </tr>\n",
              "    <tr>\n",
              "      <th>37</th>\n",
              "      <td>toilet cleaner</td>\n",
              "      <td>7</td>\n",
              "    </tr>\n",
              "    <tr>\n",
              "      <th>144</th>\n",
              "      <td>whisky</td>\n",
              "      <td>8</td>\n",
              "    </tr>\n",
              "    <tr>\n",
              "      <th>25</th>\n",
              "      <td>make up remover</td>\n",
              "      <td>8</td>\n",
              "    </tr>\n",
              "  </tbody>\n",
              "</table>\n",
              "</div>\n",
              "      <button class=\"colab-df-convert\" onclick=\"convertToInteractive('df-2dfdd45d-dd95-471f-8ccb-7e0844960b95')\"\n",
              "              title=\"Convert this dataframe to an interactive table.\"\n",
              "              style=\"display:none;\">\n",
              "        \n",
              "  <svg xmlns=\"http://www.w3.org/2000/svg\" height=\"24px\"viewBox=\"0 0 24 24\"\n",
              "       width=\"24px\">\n",
              "    <path d=\"M0 0h24v24H0V0z\" fill=\"none\"/>\n",
              "    <path d=\"M18.56 5.44l.94 2.06.94-2.06 2.06-.94-2.06-.94-.94-2.06-.94 2.06-2.06.94zm-11 1L8.5 8.5l.94-2.06 2.06-.94-2.06-.94L8.5 2.5l-.94 2.06-2.06.94zm10 10l.94 2.06.94-2.06 2.06-.94-2.06-.94-.94-2.06-.94 2.06-2.06.94z\"/><path d=\"M17.41 7.96l-1.37-1.37c-.4-.4-.92-.59-1.43-.59-.52 0-1.04.2-1.43.59L10.3 9.45l-7.72 7.72c-.78.78-.78 2.05 0 2.83L4 21.41c.39.39.9.59 1.41.59.51 0 1.02-.2 1.41-.59l7.78-7.78 2.81-2.81c.8-.78.8-2.07 0-2.86zM5.41 20L4 18.59l7.72-7.72 1.47 1.35L5.41 20z\"/>\n",
              "  </svg>\n",
              "      </button>\n",
              "      \n",
              "  <style>\n",
              "    .colab-df-container {\n",
              "      display:flex;\n",
              "      flex-wrap:wrap;\n",
              "      gap: 12px;\n",
              "    }\n",
              "\n",
              "    .colab-df-convert {\n",
              "      background-color: #E8F0FE;\n",
              "      border: none;\n",
              "      border-radius: 50%;\n",
              "      cursor: pointer;\n",
              "      display: none;\n",
              "      fill: #1967D2;\n",
              "      height: 32px;\n",
              "      padding: 0 0 0 0;\n",
              "      width: 32px;\n",
              "    }\n",
              "\n",
              "    .colab-df-convert:hover {\n",
              "      background-color: #E2EBFA;\n",
              "      box-shadow: 0px 1px 2px rgba(60, 64, 67, 0.3), 0px 1px 3px 1px rgba(60, 64, 67, 0.15);\n",
              "      fill: #174EA6;\n",
              "    }\n",
              "\n",
              "    [theme=dark] .colab-df-convert {\n",
              "      background-color: #3B4455;\n",
              "      fill: #D2E3FC;\n",
              "    }\n",
              "\n",
              "    [theme=dark] .colab-df-convert:hover {\n",
              "      background-color: #434B5C;\n",
              "      box-shadow: 0px 1px 3px 1px rgba(0, 0, 0, 0.15);\n",
              "      filter: drop-shadow(0px 1px 2px rgba(0, 0, 0, 0.3));\n",
              "      fill: #FFFFFF;\n",
              "    }\n",
              "  </style>\n",
              "\n",
              "      <script>\n",
              "        const buttonEl =\n",
              "          document.querySelector('#df-2dfdd45d-dd95-471f-8ccb-7e0844960b95 button.colab-df-convert');\n",
              "        buttonEl.style.display =\n",
              "          google.colab.kernel.accessAllowed ? 'block' : 'none';\n",
              "\n",
              "        async function convertToInteractive(key) {\n",
              "          const element = document.querySelector('#df-2dfdd45d-dd95-471f-8ccb-7e0844960b95');\n",
              "          const dataTable =\n",
              "            await google.colab.kernel.invokeFunction('convertToInteractive',\n",
              "                                                     [key], {});\n",
              "          if (!dataTable) return;\n",
              "\n",
              "          const docLinkHtml = 'Like what you see? Visit the ' +\n",
              "            '<a target=\"_blank\" href=https://colab.research.google.com/notebooks/data_table.ipynb>data table notebook</a>'\n",
              "            + ' to learn more about interactive tables.';\n",
              "          element.innerHTML = '';\n",
              "          dataTable['output_type'] = 'display_data';\n",
              "          await google.colab.output.renderOutput(dataTable, element);\n",
              "          const docLink = document.createElement('div');\n",
              "          docLink.innerHTML = docLinkHtml;\n",
              "          element.appendChild(docLink);\n",
              "        }\n",
              "      </script>\n",
              "    </div>\n",
              "  </div>\n",
              "  "
            ]
          },
          "metadata": {},
          "execution_count": 24
        }
      ]
    },
    {
      "cell_type": "code",
      "source": [
        "df_items.describe(), df_items.boxplot(column=[\"frequents\"])"
      ],
      "metadata": {
        "colab": {
          "base_uri": "https://localhost:8080/",
          "height": 421
        },
        "id": "hnci1iql5HIE",
        "outputId": "e3e9a6da-867d-439f-c382-1933e6363880"
      },
      "execution_count": 25,
      "outputs": [
        {
          "output_type": "execute_result",
          "data": {
            "text/plain": [
              "(         frequents\n",
              " count   169.000000\n",
              " mean    256.609467\n",
              " std     379.006378\n",
              " min       1.000000\n",
              " 25%      38.000000\n",
              " 50%     103.000000\n",
              " 75%     305.000000\n",
              " max    2513.000000, <matplotlib.axes._subplots.AxesSubplot at 0x7f5f5ef87bd0>)"
            ]
          },
          "metadata": {},
          "execution_count": 25
        },
        {
          "output_type": "display_data",
          "data": {
            "text/plain": [
              "<Figure size 432x288 with 1 Axes>"
            ],
            "image/png": "[encoded data removed]"
          },
          "metadata": {
            "needs_background": "light"
          }
        }
      ]
    },
    {
      "cell_type": "code",
      "source": [
        "transactionss = convert_csv_to_dict_data(groceries_file_path)\n",
        "algo = Arules()\n",
        "frequents = algo.get_frequent_item_sets(transactionss, 0.005)\n",
        "for each in frequents[:10]:\n",
        "  print(each)"
      ],
      "metadata": {
        "colab": {
          "base_uri": "https://localhost:8080/"
        },
        "id": "ED_t3Q405IyG",
        "outputId": "7965b0a0-9336-4738-cafc-f228940c71b8"
      },
      "execution_count": 26,
      "outputs": [
        {
          "output_type": "stream",
          "name": "stdout",
          "text": [
            "frozenset({'whole milk', 'tropical fruit', 'other vegetables', 'yogurt'})\n",
            "frozenset({'whole milk', 'fruit/vegetable juice', 'other vegetables', 'yogurt'})\n",
            "frozenset({'whole milk', 'root vegetables', 'other vegetables', 'yogurt'})\n",
            "frozenset({'citrus fruit', 'root vegetables', 'other vegetables', 'whole milk'})\n",
            "frozenset({'whole milk', 'root vegetables', 'tropical fruit', 'other vegetables'})\n",
            "frozenset({'whole milk', 'root vegetables', 'tropical fruit', 'yogurt'})\n",
            "frozenset({'whole milk', 'rolls/buns', 'other vegetables', 'yogurt'})\n",
            "frozenset({'root vegetables', 'whole milk', 'rolls/buns', 'other vegetables'})\n",
            "frozenset({'whipped/sour cream', 'root vegetables', 'other vegetables', 'whole milk'})\n",
            "frozenset({'pip fruit', 'whole milk', 'root vegetables', 'other vegetables'})\n"
          ]
        }
      ]
    },
    {
      "cell_type": "code",
      "source": [
        "l = algo.get_arules(min_sup=0.005, min_conf=0.2)\n",
        "for each in l:\n",
        "  print(str(each))"
      ],
      "metadata": {
        "colab": {
          "base_uri": "https://localhost:8080/"
        },
        "id": "6gMVS_mm8pKV",
        "outputId": "9e896123-0a4c-45a6-b034-5d86f96640b4"
      },
      "execution_count": 27,
      "outputs": [
        {
          "output_type": "stream",
          "name": "stdout",
          "text": [
            "['root vegetables', 'yogurt']->['whole milk', 'tropical fruit'] support: 0.0056939501779359435, lift: 5.212371290127195, confidence: 0.2204724409448819\n",
            "['root vegetables', 'tropical fruit']->['whole milk', 'yogurt'] support: 0.0056939501779359435, lift: 4.828813663343766, confidence: 0.27053140096618356\n",
            "['pip fruit', 'root vegetables']->['whole milk', 'other vegetables'] support: 0.005490594814438231, lift: 4.716272378516624, confidence: 0.35294117647058826\n",
            "['root vegetables', 'tropical fruit']->['whole milk', 'other vegetables'] support: 0.007015760040671073, lift: 4.4542572463768115, confidence: 0.3333333333333333\n",
            "['citrus fruit', 'root vegetables']->['whole milk', 'other vegetables'] support: 0.005795627859684799, lift: 4.377459707646177, confidence: 0.3275862068965517\n",
            "['fruit/vegetable juice', 'other vegetables']->['whole milk', 'yogurt'] support: 0.005083884087442806, lift: 4.3114407708426485, confidence: 0.24154589371980675\n",
            "['pip fruit', 'other vegetables']->['whole milk', 'root vegetables'] support: 0.005490594814438231, lift: 4.29625375150667, confidence: 0.21011673151750973\n",
            "['citrus fruit', 'other vegetables']->['whole milk', 'root vegetables'] support: 0.005795627859684799, lift: 4.103796374923136, confidence: 0.2007042253521127\n",
            "['citrus fruit', 'whole milk', 'other vegetables']->['root vegetables'] support: 0.005795627859684799, lift: 4.085492945429104, confidence: 0.4453125\n",
            "['whipped/sour cream', 'root vegetables']->['whole milk', 'other vegetables'] support: 0.005185561769191663, lift: 4.056555706521739, confidence: 0.30357142857142855\n",
            "['root vegetables', 'yogurt']->['whole milk', 'other vegetables'] support: 0.007829181494661922, lift: 4.050918991783636, confidence: 0.3031496062992126\n",
            "['tropical fruit', 'other vegetables']->['whole milk', 'yogurt'] support: 0.007625826131164209, lift: 3.792357958489072, confidence: 0.21246458923512748\n",
            "['pip fruit', 'yogurt']->['whole milk', 'other vegetables'] support: 0.005083884087442806, lift: 3.7747942765905185, confidence: 0.2824858757062147\n",
            "['whole milk', 'tropical fruit', 'other vegetables']->['root vegetables'] support: 0.007015760040671073, lift: 3.7680736940298507, confidence: 0.4107142857142857\n",
            "['whole milk', 'root vegetables', 'yogurt']->['tropical fruit'] support: 0.0056939501779359435, lift: 3.732043150647802, confidence: 0.3916083916083916\n",
            "['pip fruit', 'whole milk', 'other vegetables']->['root vegetables'] support: 0.005490594814438231, lift: 3.724960722702278, confidence: 0.40601503759398494\n",
            "['fruit/vegetable juice', 'yogurt']->['whole milk', 'other vegetables'] support: 0.005083884087442806, lift: 3.631187972589792, confidence: 0.2717391304347826\n",
            "['whipped/sour cream', 'yogurt']->['whole milk', 'other vegetables'] support: 0.005592272496187087, lift: 3.602708066922421, confidence: 0.2696078431372549\n",
            "['whole milk', 'other vegetables', 'yogurt']->['whipped/sour cream'] support: 0.005592272496187087, lift: 3.503513714822371, confidence: 0.2511415525114155\n",
            "['tropical fruit', 'yogurt']->['whole milk', 'other vegetables'] support: 0.007625826131164209, lift: 3.4798884737318843, confidence: 0.2604166666666667\n",
            "['whole milk', 'fruit/vegetable juice', 'other vegetables']->['yogurt'] support: 0.005083884087442806, lift: 3.4797899742421237, confidence: 0.4854368932038835\n",
            "['whole milk', 'tropical fruit', 'yogurt']->['root vegetables'] support: 0.0056939501779359435, lift: 3.4481117900430736, confidence: 0.37583892617449666\n",
            "['rolls/buns', 'root vegetables']->['whole milk', 'other vegetables'] support: 0.0062023385866802234, lift: 3.4105819083136257, confidence: 0.25523012552301255\n",
            "['whole milk', 'root vegetables', 'tropical fruit']->['yogurt'] support: 0.0056939501779359435, lift: 3.4019370460048424, confidence: 0.4745762711864407\n",
            "['citrus fruit', 'root vegetables', 'whole milk']->['other vegetables'] support: 0.005795627859684799, lift: 3.2731651777894553, confidence: 0.6333333333333333\n",
            "['whole milk', 'other vegetables', 'yogurt']->['tropical fruit'] support: 0.007625826131164209, lift: 3.2637119040033977, confidence: 0.3424657534246575\n",
            "['whipped/sour cream', 'whole milk', 'other vegetables']->['root vegetables'] support: 0.005185561769191663, lift: 3.2492809390547266, confidence: 0.3541666666666667\n",
            "['whole milk', 'other vegetables', 'yogurt']->['root vegetables'] support: 0.007829181494661922, lift: 3.225716451986642, confidence: 0.3515981735159817\n",
            "['whole milk', 'tropical fruit', 'other vegetables']->['yogurt'] support: 0.007625826131164209, lift: 3.2001639941690962, confidence: 0.44642857142857145\n",
            "['whole milk', 'rolls/buns', 'other vegetables']->['root vegetables'] support: 0.0062023385866802234, lift: 3.179777603459973, confidence: 0.3465909090909091\n",
            "['pip fruit', 'whole milk', 'root vegetables']->['other vegetables'] support: 0.005490594814438231, lift: 3.1713681746524625, confidence: 0.6136363636363636\n",
            "['whole milk', 'other vegetables', 'yogurt']->['fruit/vegetable juice'] support: 0.005083884087442806, lift: 3.158134725674174, confidence: 0.228310502283105\n",
            "['whole milk', 'root vegetables', 'other vegetables']->['pip fruit'] support: 0.005490594814438231, lift: 3.130836162988115, confidence: 0.23684210526315788\n",
            "['whole milk', 'root vegetables', 'other vegetables']->['whipped/sour cream'] support: 0.005185561769191663, lift: 3.120474057484136, confidence: 0.2236842105263158\n",
            "['whole milk', 'root vegetables', 'tropical fruit']->['other vegetables'] support: 0.007015760040671073, lift: 3.0220570553185424, confidence: 0.5847457627118644\n",
            "['whole milk', 'root vegetables', 'other vegetables']->['citrus fruit'] support: 0.005795627859684799, lift: 3.0205773955773956, confidence: 0.25\n",
            "['whole milk', 'other vegetables', 'yogurt']->['pip fruit'] support: 0.005083884087442806, lift: 3.0180561692934647, confidence: 0.228310502283105\n",
            "['whole milk', 'root vegetables', 'other vegetables']->['tropical fruit'] support: 0.007015760040671073, lift: 2.884090677274582, confidence: 0.3026315789473684\n",
            "['whipped/sour cream', 'root vegetables', 'whole milk']->['other vegetables'] support: 0.005185561769191663, lift: 2.8341498143847574, confidence: 0.5483870967741935\n",
            "['whole milk', 'root vegetables', 'yogurt']->['other vegetables'] support: 0.007829181494661922, lift: 2.782852985165124, confidence: 0.5384615384615384\n",
            "['whole milk', 'fruit/vegetable juice', 'yogurt']->['other vegetables'] support: 0.005083884087442806, lift: 2.778578249396821, confidence: 0.5376344086021505\n",
            "['pip fruit', 'whole milk', 'yogurt']->['other vegetables'] support: 0.005083884087442806, lift: 2.7490189063181316, confidence: 0.5319148936170213\n",
            "['root vegetables', 'tropical fruit', 'yogurt']->['whole milk'] support: 0.0056939501779359435, lift: 2.739554317548746, confidence: 0.7\n",
            "['whipped/sour cream', 'whole milk', 'other vegetables']->['yogurt'] support: 0.005592272496187087, lift: 2.7379180839002264, confidence: 0.3819444444444444\n",
            "['pip fruit', 'whole milk', 'other vegetables']->['yogurt'] support: 0.005083884087442806, lift: 2.6948749424581857, confidence: 0.37593984962406013\n",
            "['whipped/sour cream', 'whole milk', 'yogurt']->['other vegetables'] support: 0.005592272496187087, lift: 2.6565285505915397, confidence: 0.514018691588785\n",
            "['pip fruit', 'root vegetables', 'other vegetables']->['whole milk'] support: 0.005490594814438231, lift: 2.6417130919220053, confidence: 0.675\n",
            "['whole milk', 'tropical fruit', 'yogurt']->['other vegetables'] support: 0.007625826131164209, lift: 2.601420575777561, confidence: 0.5033557046979866\n",
            "['rolls/buns', 'whole milk', 'root vegetables']->['other vegetables'] support: 0.0062023385866802234, lift: 2.5220599054125064, confidence: 0.488\n",
            "['pip fruit', 'other vegetables', 'yogurt']->['whole milk'] support: 0.005083884087442806, lift: 2.4460306406685235, confidence: 0.625\n",
            "['tropical fruit', 'other vegetables', 'yogurt']->['whole milk'] support: 0.007625826131164209, lift: 2.4258155114068005, confidence: 0.6198347107438017\n",
            "['whole milk', 'root vegetables', 'other vegetables']->['yogurt'] support: 0.007829181494661922, lift: 2.420895989974937, confidence: 0.33771929824561403\n",
            "['fruit/vegetable juice', 'other vegetables', 'yogurt']->['whole milk'] support: 0.005083884087442806, lift: 2.4158327315244676, confidence: 0.6172839506172839\n",
            "['whole milk', 'rolls/buns', 'other vegetables']->['yogurt'] support: 0.005998983223182512, lift: 2.403032235621521, confidence: 0.3352272727272727\n",
            "['whipped/sour cream', 'root vegetables', 'other vegetables']->['whole milk'] support: 0.005185561769191663, lift: 2.376144050935137, confidence: 0.6071428571428571\n",
            "['root vegetables', 'other vegetables', 'yogurt']->['whole milk'] support: 0.007829181494661922, lift: 2.3728423222863158, confidence: 0.6062992125984252\n",
            "['root vegetables', 'tropical fruit', 'other vegetables']->['whole milk'] support: 0.007015760040671073, lift: 2.2317502704942562, confidence: 0.5702479338842975\n",
            "['citrus fruit', 'root vegetables', 'other vegetables']->['whole milk'] support: 0.005795627859684799, lift: 2.187039161068327, confidence: 0.5588235294117647\n",
            "['whipped/sour cream', 'other vegetables', 'yogurt']->['whole milk'] support: 0.005592272496187087, lift: 2.152506963788301, confidence: 0.55\n",
            "['rolls/buns', 'other vegetables', 'yogurt']->['whole milk'] support: 0.005998983223182512, lift: 2.0434096679567135, confidence: 0.5221238938053098\n",
            "['whole milk', 'rolls/buns', 'yogurt']->['other vegetables'] support: 0.005998983223182512, lift: 1.9929488698614848, confidence: 0.38562091503267976\n",
            "['rolls/buns', 'root vegetables', 'other vegetables']->['whole milk'] support: 0.0062023385866802234, lift: 1.989438254410399, confidence: 0.5083333333333333\n",
            "['whole milk', 'other vegetables', 'yogurt']->['rolls/buns'] support: 0.005998983223182512, lift: 1.4646831797380422, confidence: 0.2694063926940639\n",
            "['whole milk', 'root vegetables', 'other vegetables']->['rolls/buns'] support: 0.0062023385866802234, lift: 1.4545571363455625, confidence: 0.2675438596491228\n"
          ]
        }
      ]
    },
    {
      "cell_type": "code",
      "source": [
        "transactionss = convert_csv_to_dict_data(groceries_file_path)\n",
        "algo = Arules()\n",
        "frequents = algo.get_frequent_item_sets(transactionss, 0.01)\n",
        "for each in frequents[:10]:\n",
        "  print(each)"
      ],
      "metadata": {
        "colab": {
          "base_uri": "https://localhost:8080/"
        },
        "id": "ShkE68ts9YrV",
        "outputId": "adf91c2f-3ebe-49ac-fc26-a1da9974816a"
      },
      "execution_count": 28,
      "outputs": [
        {
          "output_type": "stream",
          "name": "stdout",
          "text": [
            "frozenset({'whole milk', 'whipped/sour cream', 'other vegetables'})\n",
            "frozenset({'citrus fruit', 'whole milk', 'yogurt'})\n",
            "frozenset({'domestic eggs', 'whole milk', 'other vegetables'})\n",
            "frozenset({'rolls/buns', 'other vegetables', 'yogurt'})\n",
            "frozenset({'whole milk', 'fruit/vegetable juice', 'other vegetables'})\n",
            "frozenset({'whole milk', 'tropical fruit', 'yogurt'})\n",
            "frozenset({'whole milk', 'sausage', 'other vegetables'})\n",
            "frozenset({'whole milk', 'other vegetables', 'yogurt'})\n",
            "frozenset({'pip fruit', 'whole milk', 'other vegetables'})\n",
            "frozenset({'whole milk', 'other vegetables', 'pastry'})\n"
          ]
        }
      ]
    },
    {
      "cell_type": "code",
      "source": [
        "l = algo.get_arules(min_sup=0.01, min_conf=0.4)\n",
        "for each in l:\n",
        "  print(str(each))"
      ],
      "metadata": {
        "colab": {
          "base_uri": "https://localhost:8080/"
        },
        "id": "f6AH465N95SY",
        "outputId": "ad06ea5d-efaa-49bc-ca33-3ebb25b15a33"
      },
      "execution_count": 31,
      "outputs": [
        {
          "output_type": "stream",
          "name": "stdout",
          "text": [
            "['citrus fruit', 'root vegetables']->['other vegetables'] support: 0.010371123538383325, lift: 3.0296084222733612, confidence: 0.5862068965517241\n",
            "['root vegetables', 'tropical fruit']->['other vegetables'] support: 0.012302999491611592, lift: 3.020999134344196, confidence: 0.5845410628019324\n",
            "['root vegetables', 'rolls/buns']->['other vegetables'] support: 0.012201321809862735, lift: 2.5948898128258175, confidence: 0.502092050209205\n",
            "['root vegetables', 'yogurt']->['other vegetables'] support: 0.012913065582104729, lift: 2.5840777719390435, confidence: 0.5\n",
            "['whipped/sour cream', 'yogurt']->['other vegetables'] support: 0.010167768174885612, lift: 2.5334095803323957, confidence: 0.49019607843137253\n",
            "['whole milk', 'root vegetables']->['other vegetables'] support: 0.023182511438739197, lift: 2.4497701954349353, confidence: 0.47401247401247404\n",
            "['whole milk', 'pork']->['other vegetables'] support: 0.010167768174885612, lift: 2.370713552237655, confidence: 0.45871559633027525\n",
            "['whole milk', 'whipped/sour cream']->['other vegetables'] support: 0.014641586171835282, lift: 2.3476794899635474, confidence: 0.45425867507886436\n",
            "['pip fruit', 'whole milk']->['other vegetables'] support: 0.013523131672597865, lift: 2.3221779977560324, confidence: 0.44932432432432434\n",
            "['curd', 'yogurt']->['whole milk'] support: 0.010066090493136757, lift: 2.27912502048173, confidence: 0.5823529411764706\n",
            "['butter', 'other vegetables']->['whole milk'] support: 0.011489578037620742, lift: 2.244884973770909, confidence: 0.5736040609137056\n",
            "['root vegetables', 'tropical fruit']->['whole milk'] support: 0.011997966446365024, lift: 2.2309690094599866, confidence: 0.5700483091787439\n",
            "['citrus fruit', 'whole milk']->['other vegetables'] support: 0.013014743263853584, lift: 2.2050796987213173, confidence: 0.4266666666666667\n",
            "['root vegetables', 'yogurt']->['whole milk'] support: 0.014539908490086425, lift: 2.2033535849801504, confidence: 0.562992125984252\n",
            "['tropical fruit', 'yogurt']->['other vegetables'] support: 0.012302999491611592, lift: 2.171343127809891, confidence: 0.4201388888888889\n",
            "['domestic eggs', 'other vegetables']->['whole milk'] support: 0.012302999491611592, lift: 2.1623357627097084, confidence: 0.5525114155251142\n",
            "['whole milk', 'butter']->['other vegetables'] support: 0.011489578037620742, lift: 2.1549873670045163, confidence: 0.41697416974169743\n",
            "['domestic eggs', 'whole milk']->['other vegetables'] support: 0.012302999491611592, lift: 2.1198197315567744, confidence: 0.4101694915254237\n",
            "['whole milk', 'tropical fruit']->['other vegetables'] support: 0.01708185053380783, lift: 2.087139738873843, confidence: 0.40384615384615385\n",
            "['whipped/sour cream', 'yogurt']->['whole milk'] support: 0.010879511947127605, lift: 2.052747282757114, confidence: 0.5245098039215687\n",
            "['rolls/buns', 'root vegetables']->['whole milk'] support: 0.012709710218607015, lift: 2.04688756541299, confidence: 0.5230125523012552\n",
            "['pip fruit', 'other vegetables']->['whole milk'] support: 0.013523131672597865, lift: 2.0253514409893456, confidence: 0.5175097276264592\n",
            "['tropical fruit', 'yogurt']->['whole milk'] support: 0.015149974580579562, lift: 2.0247698081089447, confidence: 0.5173611111111112\n",
            "['other vegetables', 'yogurt']->['whole milk'] support: 0.02226741230299949, lift: 2.00723451168677, confidence: 0.5128805620608899\n",
            "['whipped/sour cream', 'other vegetables']->['whole milk'] support: 0.014641586171835282, lift: 1.9843854211620697, confidence: 0.5070422535211268\n",
            "['fruit/vegetable juice', 'other vegetables']->['whole milk'] support: 0.01047280122013218, lift: 1.9473712540201578, confidence: 0.4975845410628019\n",
            "['root vegetables', 'other vegetables']->['whole milk'] support: 0.023182511438739197, lift: 1.9148325702057454, confidence: 0.4892703862660944\n",
            "['tropical fruit', 'other vegetables']->['whole milk'] support: 0.01708185053380783, lift: 1.862586504849006, confidence: 0.47592067988668557\n",
            "['citrus fruit', 'yogurt']->['whole milk'] support: 0.010269445856634469, lift: 1.855767847568232, confidence: 0.47417840375586856\n",
            "['pork', 'other vegetables']->['whole milk'] support: 0.010167768174885612, lift: 1.837393908483398, confidence: 0.4694835680751174\n",
            "['other vegetables', 'pastry']->['whole milk'] support: 0.010574478901881037, lift: 1.8334211648974879, confidence: 0.46846846846846846\n",
            "['rolls/buns', 'yogurt']->['whole milk'] support: 0.015556685307574987, lift: 1.77156302022383, confidence: 0.4526627218934911\n",
            "['citrus fruit', 'other vegetables']->['whole milk'] support: 0.013014743263853584, lift: 1.763898152144062, confidence: 0.4507042253521127\n",
            "['rolls/buns', 'tropical fruit']->['whole milk'] support: 0.010981189628876462, lift: 1.7465871682128962, confidence: 0.4462809917355372\n",
            "['other vegetables', 'bottled water']->['whole milk'] support: 0.010777834265378749, lift: 1.7001917895794327, confidence: 0.4344262295081967\n",
            "['soda', 'other vegetables']->['whole milk'] support: 0.013929842399593289, lift: 1.6651239640824236, confidence: 0.4254658385093168\n",
            "['rolls/buns', 'other vegetables']->['whole milk'] support: 0.017895271987798677, lift: 1.6439193995519241, confidence: 0.4200477326968974\n"
          ]
        }
      ]
    },
    {
      "cell_type": "code",
      "source": [
        ""
      ],
      "metadata": {
        "id": "H_kBcUhjBTDv"
      },
      "execution_count": null,
      "outputs": []
    }
  ]
}